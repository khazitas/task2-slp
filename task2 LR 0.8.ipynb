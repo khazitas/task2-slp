{
 "cells": [
  {
   "cell_type": "code",
   "execution_count": 38,
   "metadata": {
    "collapsed": true
   },
   "outputs": [],
   "source": [
    "import pandas as pd\n",
    "import matplotlib.pyplot as plt\n",
    "import random\n",
    "import math "
   ]
  },
  {
   "cell_type": "code",
   "execution_count": 39,
   "metadata": {
    "collapsed": true
   },
   "outputs": [],
   "source": [
    "# READING THE DATASET\n",
    "cols = ['sepal_length', 'sepal_width', 'petal_length', 'petal_width', 'category']\n",
    "df_training = pd.read_csv(\"task1 classifier 0.8.csv\", header=None, names=cols)"
   ]
  },
  {
   "cell_type": "code",
   "execution_count": 40,
   "metadata": {
    "collapsed": true
   },
   "outputs": [],
   "source": [
    "# INITIALIZING ARRAY AND VARIABLES TO BE USED\n",
    "category1 = [None] * 150\n",
    "category2 = [None] * 150\n",
    "theta1 = [None] * 150\n",
    "theta2 = [None] * 150\n",
    "theta3 = [None] * 150\n",
    "theta4 = [None] * 150\n",
    "theta5 = [None] * 150\n",
    "theta6 = [None] * 150\n",
    "theta7 = [None] * 150\n",
    "theta8 = [None] * 150\n",
    "bias1 = [None] * 150\n",
    "bias2 = [None] * 150\n",
    "target1 = [None] * 150\n",
    "target2 = [None] * 150\n",
    "sigmoid1 = [None] * 150\n",
    "sigmoid2 = [None] * 150\n",
    "prediction1 = [None] * 150\n",
    "prediction2 = [None] * 150\n",
    "error1 = [None] * 150\n",
    "error2 = [None] * 150\n",
    "dtheta1 = [None] * 150\n",
    "dtheta2 = [None] * 150\n",
    "dtheta3 = [None] * 150\n",
    "dtheta4 = [None] * 150\n",
    "dtheta5 = [None] * 150\n",
    "dtheta6 = [None] * 150\n",
    "dtheta7 = [None] * 150\n",
    "dtheta8 = [None] * 150\n",
    "dbias1 = [None] * 150\n",
    "dbias2 = [None] * 150\n",
    "firstepoch = 1\n",
    "error1 = [0] * 100\n",
    "error2 = [0] * 100\n",
    "accuracy = [0] * 100\n",
    "epoch = 100\n",
    "learning_rate = 0.8"
   ]
  },
  {
   "cell_type": "code",
   "execution_count": 41,
   "metadata": {
    "collapsed": true
   },
   "outputs": [],
   "source": [
    "# FUNCTION TO GET THE THETA OF EVERY ITERATION\n",
    "def getTheta(n):\n",
    "\tif n > 0:\n",
    "\t\ttheta1[n] = theta1[n-1] - learning_rate * dtheta1[n-1]\n",
    "\t\ttheta2[n] = theta2[n-1] - learning_rate * dtheta2[n-1]\n",
    "\t\ttheta3[n] = theta3[n-1] - learning_rate * dtheta3[n-1]\n",
    "\t\ttheta4[n] = theta4[n-1] - learning_rate * dtheta4[n-1]\n",
    "\t\ttheta5[n] = theta5[n-1] - learning_rate * dtheta5[n-1]\n",
    "\t\ttheta6[n] = theta6[n-1] - learning_rate * dtheta6[n-1]\n",
    "\t\ttheta7[n] = theta7[n-1] - learning_rate * dtheta7[n-1]\n",
    "\t\ttheta8[n] = theta8[n-1] - learning_rate * dtheta8[n-1]\n",
    "\telif firstepoch == 0 and n < 1:\n",
    "\t\ttheta1[n] = theta1[149] - learning_rate * dtheta1[149]\n",
    "\t\ttheta2[n] = theta2[149] - learning_rate * dtheta2[149]\n",
    "\t\ttheta3[n] = theta3[149] - learning_rate * dtheta3[149]\n",
    "\t\ttheta4[n] = theta4[149] - learning_rate * dtheta4[149]\n",
    "\t\ttheta5[n] = theta5[149] - learning_rate * dtheta5[149]\n",
    "\t\ttheta6[n] = theta6[149] - learning_rate * dtheta6[149]\n",
    "\t\ttheta7[n] = theta7[149] - learning_rate * dtheta7[149]\n",
    "\t\ttheta8[n] = theta8[149] - learning_rate * dtheta8[149]\n",
    "\telse:\n",
    "\t\ttheta1[n] = random.uniform(0, 1)\n",
    "\t\ttheta2[n] = random.uniform(0, 1)\n",
    "\t\ttheta3[n] = random.uniform(0, 1)\n",
    "\t\ttheta4[n] = random.uniform(0, 1)\n",
    "\t\ttheta5[n] = random.uniform(0, 1)\n",
    "\t\ttheta6[n] = random.uniform(0, 1)\n",
    "\t\ttheta7[n] = random.uniform(0, 1)\n",
    "\t\ttheta8[n] = random.uniform(0, 1)"
   ]
  },
  {
   "cell_type": "code",
   "execution_count": 42,
   "metadata": {
    "collapsed": true
   },
   "outputs": [],
   "source": [
    "# FUNCTION TO GET THE BIAS OF EVERY ITERATION\n",
    "def getBias(n):\n",
    "\tif n > 0:\n",
    "\t\tbias1[n] = bias1[n-1] - learning_rate * dbias1[n-1]\n",
    "\t\tbias2[n] = bias2[n-1] - learning_rate * dbias2[n-1]\n",
    "\telif firstepoch == 0 and n < 1:\n",
    "\t\tbias1[n] = bias1[149] - learning_rate * dbias1[149]\n",
    "\t\tbias2[n] = bias2[149] - learning_rate * dbias2[149]\n",
    "\telse:\n",
    "\t\tbias1[n] = random.uniform(0, 1)\n",
    "\t\tbias2[n] = random.uniform(0, 1)"
   ]
  },
  {
   "cell_type": "code",
   "execution_count": 43,
   "metadata": {
    "collapsed": true
   },
   "outputs": [],
   "source": [
    "# FUNCTION TO GET THE TARGET\n",
    "def getTarget(n):\n",
    "    print(theta1[n])\n",
    "    print(theta2[n])\n",
    "    print(theta3[n])\n",
    "    print(theta4[n])\n",
    "    print(df_training['sepal_length'][n])\n",
    "    print(df_training['sepal_width'][n])\n",
    "    print(df_training['petal_length'][n])\n",
    "    print(df_training['petal_width'][n])\n",
    "    print(bias1[n])\n",
    "    print(bias2[n])\n",
    "    \n",
    "    target1[n] = df_training['sepal_length'][n]*theta1[n] + df_training['sepal_width'][n]*theta2[n] + df_training['petal_length'][n]*theta3[n] + df_training['petal_width'][n]*theta4[n] + bias1[n]\n",
    "    target2[n] = df_training['sepal_length'][n]*theta5[n] + df_training['sepal_width'][n]*theta6[n] + df_training['petal_length'][n]*theta7[n] + df_training['petal_width'][n]*theta8[n] + bias2[n]"
   ]
  },
  {
   "cell_type": "code",
   "execution_count": 44,
   "metadata": {
    "collapsed": true
   },
   "outputs": [],
   "source": [
    "# FUNCTION TO GET THE SIGMOID\n",
    "def getSigmoid(n):\n",
    "\tsigmoid1[n] = 1/(1 + math.exp(-target1[n]))\n",
    "\tsigmoid2[n] = 1/(1 + math.exp(-target2[n]))"
   ]
  },
  {
   "cell_type": "code",
   "execution_count": 45,
   "metadata": {
    "collapsed": true
   },
   "outputs": [],
   "source": [
    "# FUNCTION TO GET THE PREDICTION\n",
    "def getPrediction(n):\n",
    "\tif sigmoid1[n] < 0.5:\n",
    "\t\tprediction1[n] = 0\n",
    "\telse:\n",
    "\t\tprediction1[n] = 1\n",
    "\n",
    "\tif sigmoid2[n] < 0.5:\n",
    "\t\tprediction2[n] = 0\n",
    "\telse:\n",
    "\t\tprediction2[n] = 1"
   ]
  },
  {
   "cell_type": "code",
   "execution_count": 46,
   "metadata": {
    "collapsed": true
   },
   "outputs": [],
   "source": [
    "# FUNCTION TO GET THE CATEGORY\n",
    "def getCategory(n):\n",
    "\tif df_training['category'][n] == 'Iris-setosa':\n",
    "\t\tcategory1[n] = 1\n",
    "\t\tcategory2[n] = 0\n",
    "\telif df_training['category'][n] == 'Iris-versicolor':\n",
    "\t\tcategory1[n] = 0\n",
    "\t\tcategory2[n] = 1\n",
    "\telif df_training['category'][n] == 'Iris-virginica':\n",
    "\t\tcategory1[n] = 0\n",
    "\t\tcategory2[n] = 0"
   ]
  },
  {
   "cell_type": "code",
   "execution_count": 47,
   "metadata": {
    "collapsed": true
   },
   "outputs": [],
   "source": [
    "# FUNCTION TO GET THE ERROR\n",
    "def getError(n):\n",
    "\terror1[n] = abs(sigmoid1[n]-category1[n]) ** 2\n",
    "\terror2[n] = abs(sigmoid2[n]-category2[n]) ** 2"
   ]
  },
  {
   "cell_type": "code",
   "execution_count": 48,
   "metadata": {
    "collapsed": true
   },
   "outputs": [],
   "source": [
    "# FUNCTION TO GET THE TOTAL ERROR IN EPOCHS\n",
    "def getTotalError(k, n):\n",
    "\ttotalerror1[k] += error1[n]\n",
    "\ttotalerror2[k] += error2[n]"
   ]
  },
  {
   "cell_type": "code",
   "execution_count": 49,
   "metadata": {
    "collapsed": true
   },
   "outputs": [],
   "source": [
    "# FUNCTION TO GET THE ACCURACY\n",
    "def getAccuracy(k, n):\n",
    "\tif category1[n] == prediction1[n] and category2[n] == prediction2[n]:\n",
    "\t\taccuracy[k] += 1"
   ]
  },
  {
   "cell_type": "code",
   "execution_count": 50,
   "metadata": {
    "collapsed": true
   },
   "outputs": [],
   "source": [
    "# FUNCTION TO GET THE AVERAGE OF TOTAL ERROR IN EPOCHS\n",
    "def averageTotalError(k, x):\n",
    "\ttotalerror1[k] = totalerror1[k]/x\n",
    "\ttotalerror2[k] = totalerror2[k]/x"
   ]
  },
  {
   "cell_type": "code",
   "execution_count": 51,
   "metadata": {
    "collapsed": true
   },
   "outputs": [],
   "source": [
    "# FUNCTION TO GET THE AVERAGE OF ACCURACY IN EPOCHS\n",
    "def averageAccuracy(k, x):\n",
    "\taccuracy[k] = accuracy[k]/x"
   ]
  },
  {
   "cell_type": "code",
   "execution_count": 52,
   "metadata": {
    "collapsed": true
   },
   "outputs": [],
   "source": [
    "# FUNCTION TO GET THE DTHETA\n",
    "def getDtheta(n):\n",
    "\tdtheta1[n] = 2*(sigmoid1[n]-category1[n])*(1-sigmoid1[n])*sigmoid1[n]*df_training['sepal_length'][n]\n",
    "\tdtheta2[n] = 2*(sigmoid1[n]-category1[n])*(1-sigmoid1[n])*sigmoid1[n]*df_training['sepal_width'][n]\n",
    "\tdtheta3[n] = 2*(sigmoid1[n]-category1[n])*(1-sigmoid1[n])*sigmoid1[n]*df_training['petal_length'][n]\n",
    "\tdtheta4[n] = 2*(sigmoid1[n]-category1[n])*(1-sigmoid1[n])*sigmoid1[n]*df_training['petal_width'][n]\n",
    "\tdtheta5[n] = 2*(sigmoid2[n]-category2[n])*(1-sigmoid2[n])*sigmoid2[n]*df_training['sepal_length'][n]\n",
    "\tdtheta6[n] = 2*(sigmoid2[n]-category2[n])*(1-sigmoid2[n])*sigmoid2[n]*df_training['sepal_width'][n]\n",
    "\tdtheta7[n] = 2*(sigmoid2[n]-category2[n])*(1-sigmoid2[n])*sigmoid2[n]*df_training['petal_length'][n]\n",
    "\tdtheta8[n] = 2*(sigmoid2[n]-category2[n])*(1-sigmoid2[n])*sigmoid2[n]*df_training['petal_width'][n]"
   ]
  },
  {
   "cell_type": "code",
   "execution_count": 53,
   "metadata": {
    "collapsed": true
   },
   "outputs": [],
   "source": [
    "# FUNCTION TO GET THE DBIAS\n",
    "def getDbias(n):\n",
    "\tdbias1[n] = 2*(sigmoid1[n]-category1[n])*(1-sigmoid1[n])*sigmoid1[n]\n",
    "\tdbias2[n] = 2*(sigmoid2[n]-category2[n])*(1-sigmoid2[n])*sigmoid2[n]"
   ]
  },
  {
   "cell_type": "code",
   "execution_count": 54,
   "metadata": {
    "collapsed": true
   },
   "outputs": [],
   "source": [
    "# FUNCTION TO PLOT DATA EASILY\n",
    "def plot(x, text):\n",
    "\tplt.plot(x)\n",
    "\tplt.ylabel(text)\n",
    "\tplt.show()"
   ]
  },
  {
   "cell_type": "code",
   "execution_count": 55,
   "metadata": {},
   "outputs": [
    {
     "name": "stdout",
     "output_type": "stream",
     "text": [
      "0.4083017245407883\n",
      "0.3313995089452182\n",
      "0.5062037776483113\n",
      "0.6003629814908364\n",
      "5.1\n",
      "3.5\n",
      "1.4\n",
      "0.2\n",
      "0.3323811581861773\n",
      "0.7134282987244177\n"
     ]
    },
    {
     "ename": "NameError",
     "evalue": "name 'totalerror1' is not defined",
     "output_type": "error",
     "traceback": [
      "\u001b[1;31m---------------------------------------------------------------------------\u001b[0m",
      "\u001b[1;31mNameError\u001b[0m                                 Traceback (most recent call last)",
      "\u001b[1;32m<ipython-input-55-a888a8730d70>\u001b[0m in \u001b[0;36m<module>\u001b[1;34m()\u001b[0m\n\u001b[0;32m      9\u001b[0m                 \u001b[0mgetCategory\u001b[0m\u001b[1;33m(\u001b[0m\u001b[0mn\u001b[0m\u001b[1;33m)\u001b[0m\u001b[1;33m\u001b[0m\u001b[0m\n\u001b[0;32m     10\u001b[0m                 \u001b[0mgetError\u001b[0m\u001b[1;33m(\u001b[0m\u001b[0mn\u001b[0m\u001b[1;33m)\u001b[0m\u001b[1;33m\u001b[0m\u001b[0m\n\u001b[1;32m---> 11\u001b[1;33m                 \u001b[0mgetTotalError\u001b[0m\u001b[1;33m(\u001b[0m\u001b[0mk\u001b[0m\u001b[1;33m,\u001b[0m \u001b[0mn\u001b[0m\u001b[1;33m)\u001b[0m\u001b[1;33m\u001b[0m\u001b[0m\n\u001b[0m\u001b[0;32m     12\u001b[0m                 \u001b[0mgetAccuracy\u001b[0m\u001b[1;33m(\u001b[0m\u001b[0mk\u001b[0m\u001b[1;33m,\u001b[0m \u001b[0mn\u001b[0m\u001b[1;33m)\u001b[0m\u001b[1;33m\u001b[0m\u001b[0m\n\u001b[0;32m     13\u001b[0m                 \u001b[0mgetDtheta\u001b[0m\u001b[1;33m(\u001b[0m\u001b[0mn\u001b[0m\u001b[1;33m)\u001b[0m\u001b[1;33m\u001b[0m\u001b[0m\n",
      "\u001b[1;32m<ipython-input-48-9d8ab8fc9a18>\u001b[0m in \u001b[0;36mgetTotalError\u001b[1;34m(k, n)\u001b[0m\n\u001b[0;32m      1\u001b[0m \u001b[1;31m# FUNCTION TO GET THE TOTAL ERROR IN EPOCHS\u001b[0m\u001b[1;33m\u001b[0m\u001b[1;33m\u001b[0m\u001b[0m\n\u001b[0;32m      2\u001b[0m \u001b[1;32mdef\u001b[0m \u001b[0mgetTotalError\u001b[0m\u001b[1;33m(\u001b[0m\u001b[0mk\u001b[0m\u001b[1;33m,\u001b[0m \u001b[0mn\u001b[0m\u001b[1;33m)\u001b[0m\u001b[1;33m:\u001b[0m\u001b[1;33m\u001b[0m\u001b[0m\n\u001b[1;32m----> 3\u001b[1;33m         \u001b[0mtotalerror1\u001b[0m\u001b[1;33m[\u001b[0m\u001b[0mk\u001b[0m\u001b[1;33m]\u001b[0m \u001b[1;33m+=\u001b[0m \u001b[0merror1\u001b[0m\u001b[1;33m[\u001b[0m\u001b[0mn\u001b[0m\u001b[1;33m]\u001b[0m\u001b[1;33m\u001b[0m\u001b[0m\n\u001b[0m\u001b[0;32m      4\u001b[0m         \u001b[0mtotalerror2\u001b[0m\u001b[1;33m[\u001b[0m\u001b[0mk\u001b[0m\u001b[1;33m]\u001b[0m \u001b[1;33m+=\u001b[0m \u001b[0merror2\u001b[0m\u001b[1;33m[\u001b[0m\u001b[0mn\u001b[0m\u001b[1;33m]\u001b[0m\u001b[1;33m\u001b[0m\u001b[0m\n",
      "\u001b[1;31mNameError\u001b[0m: name 'totalerror1' is not defined"
     ]
    }
   ],
   "source": [
    "# THE MAIN LINEAR CLASSIFIER LOOP\n",
    "for k in range(0, epoch):\n",
    "\tfor n in range(0, 150):\n",
    "\t\tgetTheta(n)\n",
    "\t\tgetBias(n)\n",
    "\t\tgetTarget(n)\n",
    "\t\tgetSigmoid(n)\n",
    "\t\tgetPrediction(n)\n",
    "\t\tgetCategory(n)\n",
    "\t\tgetError(n)\n",
    "\t\tgetTotalError(k, n)\n",
    "\t\tgetAccuracy(k, n)\n",
    "\t\tgetDtheta(n)\n",
    "\t\tgetDbias(n)\n",
    "\tfirstepoch = 0\n",
    "\tprint(\"EPOCH \", k + 1)\n",
    "\taverageTotalError(k, 150)\n",
    "\taverageAccuracy(k, 150)\n",
    "\tprint(\"Accuracy = \", accuracy[k])\n",
    "\tprint(\"Total error 1 = \", totalerror1[k])\n",
    "\tprint(\"Total error 2 = \", totalerror2[k])\n",
    "\tprint()\n"
   ]
  },
  {
   "cell_type": "code",
   "execution_count": 20,
   "metadata": {
    "scrolled": false
   },
   "outputs": [
    {
     "data": {
      "image/png": "[encoded data removed]",
      "text/plain": [
       "<matplotlib.figure.Figure at 0xb8180c5d30>"
      ]
     },
     "metadata": {},
     "output_type": "display_data"
    },
    {
     "data": {
      "image/png": "[encoded data removed]",
      "text/plain": [
       "<matplotlib.figure.Figure at 0xb8180c5be0>"
      ]
     },
     "metadata": {},
     "output_type": "display_data"
    },
    {
     "data": {
      "image/png": "[encoded data removed]",
      "text/plain": [
       "<matplotlib.figure.Figure at 0xb818146f28>"
      ]
     },
     "metadata": {},
     "output_type": "display_data"
    }
   ],
   "source": [
    "# PLOTTING THE GRAPH\n",
    "plot(totalerror1, \"Error 1\")\n",
    "plot(totalerror2, \"Error 2\")\n",
    "plot(accuracy, \"Accuracy\")"
   ]
  },
  {
   "cell_type": "code",
   "execution_count": 29,
   "metadata": {},
   "outputs": [
    {
     "ename": "TypeError",
     "evalue": "can't multiply sequence by non-int of type 'NoneType'",
     "output_type": "error",
     "traceback": [
      "\u001b[1;31m---------------------------------------------------------------------------\u001b[0m",
      "\u001b[1;31mTypeError\u001b[0m                                 Traceback (most recent call last)",
      "\u001b[1;32m<ipython-input-29-192b4df94d95>\u001b[0m in \u001b[0;36m<module>\u001b[1;34m()\u001b[0m\n\u001b[1;32m----> 1\u001b[1;33m \u001b[0mgetTarget\u001b[0m\u001b[1;33m(\u001b[0m\u001b[1;36m1\u001b[0m\u001b[1;33m)\u001b[0m\u001b[1;33m\u001b[0m\u001b[0m\n\u001b[0m",
      "\u001b[1;32m<ipython-input-12-8927fcfbe247>\u001b[0m in \u001b[0;36mgetTarget\u001b[1;34m(n)\u001b[0m\n\u001b[0;32m      1\u001b[0m \u001b[1;31m# FUNCTION TO GET THE TARGET\u001b[0m\u001b[1;33m\u001b[0m\u001b[1;33m\u001b[0m\u001b[0m\n\u001b[0;32m      2\u001b[0m \u001b[1;32mdef\u001b[0m \u001b[0mgetTarget\u001b[0m\u001b[1;33m(\u001b[0m\u001b[0mn\u001b[0m\u001b[1;33m)\u001b[0m\u001b[1;33m:\u001b[0m\u001b[1;33m\u001b[0m\u001b[0m\n\u001b[1;32m----> 3\u001b[1;33m         \u001b[0mtarget1\u001b[0m\u001b[1;33m[\u001b[0m\u001b[0mn\u001b[0m\u001b[1;33m]\u001b[0m \u001b[1;33m=\u001b[0m \u001b[0mdf_training\u001b[0m\u001b[1;33m[\u001b[0m\u001b[1;34m'sepal_length'\u001b[0m\u001b[1;33m]\u001b[0m\u001b[1;33m[\u001b[0m\u001b[0mn\u001b[0m\u001b[1;33m]\u001b[0m\u001b[1;33m*\u001b[0m\u001b[0mtheta1\u001b[0m\u001b[1;33m[\u001b[0m\u001b[0mn\u001b[0m\u001b[1;33m]\u001b[0m \u001b[1;33m+\u001b[0m \u001b[0mdf_training\u001b[0m\u001b[1;33m[\u001b[0m\u001b[1;34m'sepal_width'\u001b[0m\u001b[1;33m]\u001b[0m\u001b[1;33m[\u001b[0m\u001b[0mn\u001b[0m\u001b[1;33m]\u001b[0m\u001b[1;33m*\u001b[0m\u001b[0mtheta2\u001b[0m\u001b[1;33m[\u001b[0m\u001b[0mn\u001b[0m\u001b[1;33m]\u001b[0m \u001b[1;33m+\u001b[0m \u001b[0mdf_training\u001b[0m\u001b[1;33m[\u001b[0m\u001b[1;34m'petal_length'\u001b[0m\u001b[1;33m]\u001b[0m\u001b[1;33m[\u001b[0m\u001b[0mn\u001b[0m\u001b[1;33m]\u001b[0m\u001b[1;33m*\u001b[0m\u001b[0mtheta3\u001b[0m\u001b[1;33m[\u001b[0m\u001b[0mn\u001b[0m\u001b[1;33m]\u001b[0m \u001b[1;33m+\u001b[0m \u001b[0mdf_training\u001b[0m\u001b[1;33m[\u001b[0m\u001b[1;34m'petal_width'\u001b[0m\u001b[1;33m]\u001b[0m\u001b[1;33m[\u001b[0m\u001b[0mn\u001b[0m\u001b[1;33m]\u001b[0m\u001b[1;33m*\u001b[0m\u001b[0mtheta4\u001b[0m\u001b[1;33m[\u001b[0m\u001b[0mn\u001b[0m\u001b[1;33m]\u001b[0m \u001b[1;33m+\u001b[0m \u001b[0mbias1\u001b[0m\u001b[1;33m[\u001b[0m\u001b[0mn\u001b[0m\u001b[1;33m]\u001b[0m\u001b[1;33m\u001b[0m\u001b[0m\n\u001b[0m\u001b[0;32m      4\u001b[0m         \u001b[0mtarget2\u001b[0m\u001b[1;33m[\u001b[0m\u001b[0mn\u001b[0m\u001b[1;33m]\u001b[0m \u001b[1;33m=\u001b[0m \u001b[0mdf_training\u001b[0m\u001b[1;33m[\u001b[0m\u001b[1;34m'sepal_length'\u001b[0m\u001b[1;33m]\u001b[0m\u001b[1;33m[\u001b[0m\u001b[0mn\u001b[0m\u001b[1;33m]\u001b[0m\u001b[1;33m*\u001b[0m\u001b[0mtheta5\u001b[0m\u001b[1;33m[\u001b[0m\u001b[0mn\u001b[0m\u001b[1;33m]\u001b[0m \u001b[1;33m+\u001b[0m \u001b[0mdf_training\u001b[0m\u001b[1;33m[\u001b[0m\u001b[1;34m'sepal_width'\u001b[0m\u001b[1;33m]\u001b[0m\u001b[1;33m[\u001b[0m\u001b[0mn\u001b[0m\u001b[1;33m]\u001b[0m\u001b[1;33m*\u001b[0m\u001b[0mtheta6\u001b[0m\u001b[1;33m[\u001b[0m\u001b[0mn\u001b[0m\u001b[1;33m]\u001b[0m \u001b[1;33m+\u001b[0m \u001b[0mdf_training\u001b[0m\u001b[1;33m[\u001b[0m\u001b[1;34m'petal_length'\u001b[0m\u001b[1;33m]\u001b[0m\u001b[1;33m[\u001b[0m\u001b[0mn\u001b[0m\u001b[1;33m]\u001b[0m\u001b[1;33m*\u001b[0m\u001b[0mtheta7\u001b[0m\u001b[1;33m[\u001b[0m\u001b[0mn\u001b[0m\u001b[1;33m]\u001b[0m \u001b[1;33m+\u001b[0m \u001b[0mdf_training\u001b[0m\u001b[1;33m[\u001b[0m\u001b[1;34m'petal_width'\u001b[0m\u001b[1;33m]\u001b[0m\u001b[1;33m[\u001b[0m\u001b[0mn\u001b[0m\u001b[1;33m]\u001b[0m\u001b[1;33m*\u001b[0m\u001b[0mtheta8\u001b[0m\u001b[1;33m[\u001b[0m\u001b[0mn\u001b[0m\u001b[1;33m]\u001b[0m \u001b[1;33m+\u001b[0m \u001b[0mbias2\u001b[0m\u001b[1;33m[\u001b[0m\u001b[0mn\u001b[0m\u001b[1;33m]\u001b[0m\u001b[1;33m\u001b[0m\u001b[0m\n",
      "\u001b[1;31mTypeError\u001b[0m: can't multiply sequence by non-int of type 'NoneType'"
     ]
    }
   ],
   "source": []
  },
  {
   "cell_type": "code",
   "execution_count": null,
   "metadata": {
    "collapsed": true
   },
   "outputs": [],
   "source": []
  },
  {
   "cell_type": "code",
   "execution_count": null,
   "metadata": {
    "collapsed": true
   },
   "outputs": [],
   "source": []
  }
 ],
 "metadata": {
  "kernelspec": {
   "display_name": "Python 3",
   "language": "python",
   "name": "python3"
  },
  "language_info": {
   "codemirror_mode": {
    "name": "ipython",
    "version": 3
   },
   "file_extension": ".py",
   "mimetype": "text/x-python",
   "name": "python",
   "nbconvert_exporter": "python",
   "pygments_lexer": "ipython3",
   "version": "3.6.3"
  }
 },
 "nbformat": 4,
 "nbformat_minor": 2
}
